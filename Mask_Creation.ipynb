{
  "nbformat": 4,
  "nbformat_minor": 0,
  "metadata": {
    "colab": {
      "name": "Mask_Creation.ipynb",
      "provenance": []
    },
    "kernelspec": {
      "name": "python3",
      "display_name": "Python 3"
    },
    "language_info": {
      "name": "python"
    }
  },
  "cells": [
    {
      "cell_type": "markdown",
      "source": [
        "# Mask Creation"
      ],
      "metadata": {
        "id": "vbZpauXE5NPw"
      }
    },
    {
      "cell_type": "code",
      "execution_count": null,
      "metadata": {
        "id": "XyGj9KhAv2YF"
      },
      "outputs": [],
      "source": [
        "import numpy as np\n",
        "import csv\n",
        "from PIL import Image\n",
        "\n",
        "csvfile=open(r\"/content/drive/MyDrive/DACO/Datasets/train.csv\")\n",
        "path=r'/content/drive/MyDrive/DACO/Datasets/train_mask/'\n",
        "csvreader=csv.reader(csvfile)\n",
        "pixel=[]\n",
        "neuron=[]\n",
        "data_r=[]\n",
        "data_t=[]\n",
        "ids=[]\n",
        "csv=[]\n",
        "\n",
        "for row in csvreader:\n",
        "  csv.append(row);\n",
        "  ids.append(row[0])\n",
        "ids_f=[]\n",
        "[ids_f.append(n) for n in ids if n not in ids_f] \n",
        "ids_f=np.delete(ids_f,0)\n",
        "ids=np.delete(ids,0)\n",
        "init=1\n",
        "r=0;\n",
        "\n",
        "for i in range(len(csv)):\n",
        "  if i>0:\n",
        "  \n",
        "    if init==1:\n",
        "      id=csv[i][0]\n",
        "      identifier=id;\n",
        "      data_r.append(csv[i][1])\n",
        "      init+=1;\n",
        "      \n",
        "    else:\n",
        "     id=csv[i][0]\n",
        "     if id==identifier:\n",
        "       data_r.append(csv[i][1])\n",
        "     else:\n",
        "       data_t.append(data_r)\n",
        "       data_r=[];\n",
        "       data_r.append(csv[i][1])\n",
        "       identifier=id;\n",
        "data_t.append(data_r)\n",
        "for image in range(len(data_t)):\n",
        "  img=np.zeros((520,704))\n",
        "  neuron=[]\n",
        "  pixel=[]\n",
        "  print(image)\n",
        "  for iter in range(len(data_t[image])):\n",
        "        s=data_t[image][iter].split()\n",
        "        for i in range(0,len(s),2):\n",
        "            s[i]=int(s[i])\n",
        "            s[i+1]=int(s[i+1])           \n",
        "            neuron.append(s[i+1])            \n",
        "            pixel.append(s[i])\n",
        "        \n",
        "        for i in range(len(pixel)):\n",
        "            p=pixel[i]-1\n",
        "            linha=p//704;\n",
        "            coluna=p%704;\n",
        "            img[linha][coluna]=255\n",
        "            for l in range(neuron[i]):\n",
        "                coluna1=coluna+l;\n",
        "                linha1=linha;\n",
        "                if coluna1//704>1:\n",
        "                    coluna1=coluna1%704;\n",
        "                    linha1+=1;\n",
        "                img[linha1][coluna1]=255;\n",
        "\n",
        "  img=np.uint8(img) \n",
        "  test=Image.fromarray(img);\n",
        "     \n",
        "  test.save(path+ids_f[image]+'_mask.png')\n",
        "  print('\\n')\n",
        "print('Done')"
      ]
    }
  ]
}