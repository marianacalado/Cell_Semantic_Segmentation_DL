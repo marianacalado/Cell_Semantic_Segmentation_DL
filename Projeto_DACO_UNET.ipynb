{
  "nbformat": 4,
  "nbformat_minor": 0,
  "metadata": {
    "colab": {
      "name": "Projeto_DACO_UNET.ipynb",
      "provenance": [],
      "collapsed_sections": [],
      "toc_visible": true
    },
    "kernelspec": {
      "name": "python3",
      "display_name": "Python 3"
    },
    "language_info": {
      "name": "python"
    }
  },
  "cells": [
    {
      "cell_type": "markdown",
      "source": [
        "# DACO Project - Neuronal Cells segmentation\n",
        "Authors: Daniel Corona; Daniel Silva; Mariana Calado"
      ],
      "metadata": {
        "id": "2MjRh1xBE_9K"
      }
    },
    {
      "cell_type": "code",
      "source": [
        "from google.colab import drive\n",
        "drive.mount('/content/drive')"
      ],
      "metadata": {
        "id": "rSuN_ciex-LE",
        "colab": {
          "base_uri": "https://localhost:8080/"
        },
        "outputId": "5de56386-c93f-43a9-ffd2-d56b9e29071e"
      },
      "execution_count": null,
      "outputs": [
        {
          "output_type": "stream",
          "name": "stdout",
          "text": [
            "Mounted at /content/drive\n"
          ]
        }
      ]
    },
    {
      "cell_type": "markdown",
      "source": [
        "#Dataset Class"
      ],
      "metadata": {
        "id": "HW7j9idQPJdQ"
      }
    },
    {
      "cell_type": "code",
      "execution_count": null,
      "metadata": {
        "id": "yQk4PnDbRS4x"
      },
      "outputs": [],
      "source": [
        "import os\n",
        "import numpy as np\n",
        "import torch\n",
        "import skimage\n",
        "from skimage import io\n",
        "from PIL import Image\n",
        "\n",
        "root_path = '/content/drive/MyDrive/DACO/Datasets'\n",
        "\n",
        "#Class which allow iterate through images from the dataset\n",
        "class SartoriusDataset(torch.utils.data.Dataset):\n",
        "    def __init__(self, root, transforms):\n",
        "        self.root = root\n",
        "        self.transforms = transforms\n",
        "\n",
        "        #Load all training images and masks, sorting them to ensure that they are aligned\n",
        "        self.imgs = list(sorted(os.listdir(os.path.join(root, \"train\"))))\n",
        "        self.masks = list(sorted(os.listdir(os.path.join(root, \"train_mask\"))))\n",
        "\n",
        "    def __getitem__(self, idx):\n",
        "        #Load images and masks\n",
        "        img_path = os.path.join(self.root, \"train\", self.imgs[idx])\n",
        "        mask_path = os.path.join(self.root, \"train_mask\", self.masks[idx])\n",
        "\n",
        "        #Open image and mask\n",
        "        img = io.imread(img_path)\n",
        "\n",
        "        mask = io.imread(mask_path)\n",
        "        \n",
        "        if self.transforms is not None:\n",
        "            img =self.transforms(img)\n",
        "            mask = self.transforms(mask)\n",
        "\n",
        "        #return img, target\n",
        "        return img, mask\n",
        "\n",
        "    def __len__(self):\n",
        "        return len(self.imgs)\n",
        "\n",
        "#Class which allow iterate through images from the dataset\n",
        "class SartoriusTestDataset(torch.utils.data.Dataset):\n",
        "    def __init__(self, root, transforms):\n",
        "        self.root = root\n",
        "        self.transforms = transforms\n",
        "\n",
        "        #Load all training images and masks, sorting them to ensure that they are aligned\n",
        "        self.imgs = list(sorted(os.listdir(os.path.join(root, \"test\"))))\n",
        "\n",
        "    def __getitem__(self, idx):\n",
        "        #Load images and masks\n",
        "        img_path = os.path.join(self.root, \"test\", self.imgs[idx])\n",
        "\n",
        "        #Open image and mask\n",
        "        img = io.imread(img_path)\n",
        "\n",
        "        \n",
        "        if self.transforms is not None:\n",
        "            img =self.transforms(img)\n",
        "\n",
        "        #return img, target\n",
        "        return img\n",
        "\n",
        "    def __len__(self):\n",
        "        return len(self.imgs)"
      ]
    },
    {
      "cell_type": "markdown",
      "source": [
        "# U-Net Model"
      ],
      "metadata": {
        "id": "k24D1d9pvP7W"
      }
    },
    {
      "cell_type": "code",
      "source": [
        "import torch\n",
        "from torch import nn\n",
        "from torchvision import models\n",
        "\n",
        "\n",
        "class UNET(nn.Module):\n",
        "    def __init__(self,in_channels,init_features):\n",
        "        super().__init__()           \n",
        "        \n",
        "        features=init_features\n",
        "        \n",
        "        # Construct the encoder blocks\n",
        "        self.enc1 = double_conv(in_channels, features)       \n",
        "        self.enc2 =  double_conv(features, features * 2)      \n",
        "        self.enc3 = double_conv(features * 2, features * 4)       \n",
        "        self.enc4 =double_conv(features * 4, features * 8)       \n",
        "        self.bottleneck = b_conv(features * 8, features * 16)      \n",
        "        self.pool=nn.MaxPool2d(kernel_size=2, stride=2)\n",
        "\n",
        "        # Construct the decoder blocks\n",
        "        self.dec1=dec(features*8)\n",
        "        self.upconv1=upscale(features*16,features*8)\n",
        "        self.dec2=dec(features*4)\n",
        "        self.upconv2=upscale(features*8,features*4)\n",
        "        self.dec3=dec(features*2)\n",
        "        self.upconv3=upscale(features*4,features*2)\n",
        "        self.dec4=dec(features)\n",
        "        self.upconv4=upscale(features*2,features)\n",
        "        self.conv=nn.Conv2d(features,1, kernel_size=1) #out\n",
        "    \n",
        "    def forward(self,x): #x input image\n",
        "        # encoder\n",
        "        enc1 = self.enc1(x)\n",
        "        \n",
        "        enc2 = self.enc2(self.pool(enc1))\n",
        "        \n",
        "        enc3 = self.enc3(self.pool(enc2))\n",
        "        \n",
        "        enc4 = self.enc4(self.pool(enc3))\n",
        "        \n",
        "        bottleneck = self.bottleneck(self.pool(enc4))\n",
        "        \n",
        "        dec1=self.upconv1(bottleneck)\n",
        "        dec1=copy_crop(dec1,enc4)\n",
        "        dec1=self.dec1(dec1)\n",
        "        \n",
        "        dec2=self.upconv2(dec1)\n",
        "        dec2=copy_crop(dec2,enc3)\n",
        "        dec2=self.dec2(dec2)\n",
        "        \n",
        "        dec3=self.upconv3(dec2)\n",
        "        dec3=copy_crop(dec3,enc2)\n",
        "        dec3=self.dec3(dec3)\n",
        "        \n",
        "        dec4=self.upconv4(dec3)\n",
        "        dec4=copy_crop(dec4,enc1)\n",
        "        dec4=self.dec4(dec4)\n",
        "        \n",
        "        out=self.conv(dec4) \n",
        "        return out\n",
        "    def to_class(output):\n",
        "        output=[1 if (x>0.5) else 0 for x in output]\n",
        "  \n",
        "        return output\n",
        "def dec(feat):\n",
        "    return nn.Sequential(\n",
        "            nn.Conv2d(feat*2,feat,kernel_size=3,padding=1,bias=False),\n",
        "            nn.BatchNorm2d(feat),\n",
        "            nn.ReLU(),\n",
        "            nn.Conv2d(feat,feat,kernel_size=3,padding=1,bias=False),\n",
        "            nn.BatchNorm2d(feat),\n",
        "            nn.ReLU()\n",
        "            )\n",
        "    \n",
        "def upscale (in_f,out_f): \n",
        "    return nn.ConvTranspose2d(in_f, out_f,kernel_size=2,stride=2)\n",
        "    \n",
        "def copy_crop (dec,enc):\n",
        "    return torch.cat((dec,enc),dim=1)\n",
        "\n",
        "def double_conv(in_c, out_c):\n",
        "    conv_=nn.Sequential(\n",
        "        nn.Conv2d(in_c, out_c, kernel_size=3,padding=1,bias=False),\n",
        "        nn.BatchNorm2d(out_c),\n",
        "        nn.ReLU(),\n",
        "        nn.Conv2d(out_c, out_c, kernel_size=3,padding=1,bias=False),\n",
        "        nn.BatchNorm2d(out_c),\n",
        "        nn.ReLU()\n",
        "        )\n",
        "    return conv_\n",
        "\n",
        "\n",
        "\n",
        "def b_conv(in_c, out_c):\n",
        "    conv=nn.Sequential(\n",
        "        nn.Conv2d(in_c, out_c, kernel_size=3,padding=1),\n",
        "        nn.ReLU()\n",
        "        )\n",
        "    return conv"
      ],
      "metadata": {
        "id": "FN4yf3JPvSmA"
      },
      "execution_count": null,
      "outputs": []
    },
    {
      "cell_type": "markdown",
      "source": [
        "# Training Loop"
      ],
      "metadata": {
        "id": "di4yyBTrvLEq"
      }
    },
    {
      "cell_type": "code",
      "source": [
        "import numpy as np\n",
        "import torch\n",
        "from PIL import Image\n",
        "from torch import nn\n",
        "import skimage\n",
        "from skimage import io\n",
        "from skimage import transform\n",
        "import torchvision.transforms as transforms\n",
        "from sklearn.model_selection import train_test_split\n",
        "from torch.utils.data import SubsetRandomSampler\n",
        "from tqdm import tqdm\n",
        "import copy\n",
        "\n",
        "\n",
        "pil = transforms.ToPILImage()\n",
        "\n",
        "def IoU(outputs, labels):\n",
        "  intersection = torch.logical_and(labels, outputs)\n",
        "  union = torch.logical_or(labels, outputs)\n",
        "  iou_score = torch.sum(intersection) / torch.sum(union)\n",
        "\n",
        "  return iou_score\n",
        "\n",
        "#Path to dataset\n",
        "root_path = '/content/drive/MyDrive/DACO/Datasets'\n",
        "save_path='/content/drive/MyDrive/DACO/Results/Unet'\n",
        "\n",
        "#Create transforms and compose\n",
        "composed_transform = transforms.Compose([transforms.ToTensor(),transforms.Resize((512,512)) ])\n",
        "\n",
        "#Dataset settings\n",
        "dataset = SartoriusDataset(root_path, composed_transform)\n",
        "\n",
        "idx = [*range(len(dataset))]\n",
        "training_idx, validation_idx = train_test_split(idx, test_size = 0.2)\n",
        "\n",
        "training_sampler = SubsetRandomSampler(training_idx)\n",
        "validation_sampler = SubsetRandomSampler(validation_idx)\n",
        "\n",
        "batch_size = 2\n",
        "\n",
        "training_dataloader = torch.utils.data.DataLoader(dataset, batch_size=batch_size, sampler=training_sampler, num_workers=0)\n",
        "validation_dataloader = torch.utils.data.DataLoader(dataset, batch_size=batch_size, sampler=validation_sampler, num_workers=0)\n",
        "\n",
        "#Define model\n",
        "model = UNET(1,32)\n",
        "\n",
        "\n",
        "#Define a loss function\n",
        "criterion = nn.BCEWithLogitsLoss()\n",
        "\n",
        "#Define one optimizer and scheduler for learning rate\n",
        "optimizer = torch.optim.SGD(model.parameters(), 0.01 , momentum=0.01)\n",
        "scheduler = torch.optim.lr_scheduler.ExponentialLR(optimizer, gamma=0.5)\n",
        "#Check if GPU is available for training\n",
        "train_on_gpu = torch.cuda.is_available()\n",
        "\n",
        "if train_on_gpu:\n",
        "  print(\"Cuda is available! Training on GPU\")\n",
        "  model.cuda()\n",
        "else:\n",
        "  print(\"Cuda isn't available! Training on CPU\")\n",
        "\n",
        "#Number of epochs\n",
        "n_epoch = 50;\n",
        "\n",
        "training_IoU = []\n",
        "training_loss = []\n",
        "\n",
        "validation_IoU = []\n",
        "validation_loss = []\n",
        "lrs = []\n",
        "min_valid_loss = 1e9\n",
        "\n",
        "for epoch in range(n_epoch):\n",
        "  print(f'[Epoch: {epoch+1}]')\n",
        "\n",
        "  #Training loop\n",
        "  model.train()\n",
        "  print('Training model...')\n",
        "\n",
        "  t_loss = 0\n",
        "  t_IoU = 0\n",
        "\n",
        "  for i, (img,mask) in enumerate(tqdm(training_dataloader)):\n",
        "    \n",
        "    if train_on_gpu:\n",
        "      img, mask = img.cuda(), mask.cuda()\n",
        "    \n",
        "    #Reset the optimizer gradient\n",
        "    optimizer.zero_grad()\n",
        "\n",
        "    #Feedforward\n",
        "    output = model(img)\n",
        "    \n",
        "    #Calculate the loss\n",
        "    loss = criterion(output, mask)\n",
        "\n",
        "    #Backpropagation\n",
        "    loss.backward()\n",
        "\n",
        "    #Update the model\n",
        "    optimizer.step()\n",
        "    \n",
        "    #Save loss\n",
        "    t_loss += loss.item()\n",
        "\n",
        "    #Save IoU\n",
        "    for j in range(batch_size):\n",
        "      t_IoU += IoU(torch.round(output[j][0]),mask[j][0])\n",
        "\n",
        "    #Visualize Image:\n",
        "    '''\n",
        "    out=pil(torch.round(torch.sigmoid(output[0])))\n",
        "    display(out)'''\n",
        "\n",
        "  #Validation loop\n",
        "  model.eval()\n",
        "  print('Validating model...')\n",
        "\n",
        "  v_loss = 0\n",
        "  v_IoU = 0\n",
        "\n",
        "  for i, (img,mask) in enumerate(tqdm(validation_dataloader)):\n",
        "    \n",
        "    if train_on_gpu:\n",
        "      img, mask = img.cuda(), mask.cuda()\n",
        "\n",
        "    #Feedforward\n",
        "    output = model(img)\n",
        "    \n",
        "    #Calculate the loss\n",
        "    loss = criterion(output, mask)\n",
        "\n",
        "    #Save loss\n",
        "    v_loss += loss.item()\n",
        "\n",
        "    #Save IoU\n",
        "    for j in range(batch_size):\n",
        "      v_IoU += IoU(torch.round(output[j][0]),mask[j][0])\n",
        "\n",
        "  # learning rate update every 10 epochs:\n",
        "  if (epoch%10==0): \n",
        "    scheduler.step()\n",
        "    lrs.append(optimizer.param_groups[0][\"lr\"])\n",
        "    print(f'Learning Rate Updated to {lrs[-1]}')\n",
        "\n",
        "\n",
        "  #Average and save losses and IoU metric\n",
        "  t_loss = t_loss/len(training_dataloader.sampler)\n",
        "  v_loss = v_loss/len(validation_dataloader.sampler)\n",
        "  t_IoU = t_IoU/len(training_dataloader.sampler)\n",
        "  v_IoU = v_IoU/len(validation_dataloader.sampler)\n",
        "\n",
        "  training_loss.append(t_loss)\n",
        "  validation_loss.append(v_loss)\n",
        "  training_IoU.append(t_IoU)\n",
        "  validation_IoU.append(v_IoU)\n",
        "\n",
        "  #Save the model state if validation loss has decreased\n",
        "  if (v_loss < min_valid_loss):\n",
        "    min_valid_loss = v_loss\n",
        "    print(\"Validation loss decreased! Saving model...\")\n",
        "    best_model=copy.deepcopy(model.state_dict())\n",
        "    torch.save(model.state_dict(),os.path.join(save_path,'model.pth'))\n",
        "   \n",
        "  \n",
        "  print(f'Training loss: {t_loss}\\tValidation loss: {v_loss}\\tTraining IoU: {t_IoU}\\tValidation IoU: {v_IoU}')\n",
        "  np.save(os.path.join(save_path,'training_loss.npz'),training_loss);\n",
        "  np.save(os.path.join(save_path,'val_loss.npz'),validation_loss);\n",
        "  np.save(os.path.join(save_path,'training_IoU.npz'),training_IoU);\n",
        "  np.save(os.path.join(save_path,'validation_IoU.npz'),validation_IoU);\n",
        "\n",
        "\n",
        "\n",
        "np.save(os.path.join(save_path,'training_loss.npz'),training_loss);\n",
        "np.save(os.path.join(save_path,'val_loss.npz'),validation_loss);\n",
        "np.save(os.path.join(save_path,'training_IoU.npz'),training_IoU);\n",
        "np.save(os.path.join(save_path,'validation_IoU.npz'),validation_IoU);\n",
        "model.load_state_dict(best_model)\n",
        "torch.save(model.state_dict(),os.path.join(save_path,'model.pth'))\n",
        "\n"
      ],
      "metadata": {
        "id": "LLeUGFG2u1fd",
        "colab": {
          "base_uri": "https://localhost:8080/",
          "height": 1000
        },
        "outputId": "c915e27a-736e-4309-8014-9a8a9512af67"
      },
      "execution_count": null,
      "outputs": [
        {
          "output_type": "stream",
          "name": "stdout",
          "text": [
            "Cuda is available! Training on GPU\n",
            "[Epoch: 1]\n",
            "Training model...\n"
          ]
        },
        {
          "output_type": "stream",
          "name": "stderr",
          "text": [
            "100%|██████████| 242/242 [02:27<00:00,  1.65it/s]\n"
          ]
        },
        {
          "output_type": "stream",
          "name": "stdout",
          "text": [
            "Validating model...\n"
          ]
        },
        {
          "output_type": "stream",
          "name": "stderr",
          "text": [
            "100%|██████████| 61/61 [00:29<00:00,  2.03it/s]\n"
          ]
        },
        {
          "output_type": "stream",
          "name": "stdout",
          "text": [
            "Learning Rate Updated to 0.005\n",
            "Validation loss decreased! Saving model...\n",
            "Training loss: 0.18225634076501712\tValidation loss: 0.14002931936353932\tTraining IoU: 0.08974801003932953\tValidation IoU: 0.0733647570014\n",
            "[Epoch: 2]\n",
            "Training model...\n"
          ]
        },
        {
          "output_type": "stream",
          "name": "stderr",
          "text": [
            "100%|██████████| 242/242 [01:01<00:00,  3.94it/s]\n"
          ]
        },
        {
          "output_type": "stream",
          "name": "stdout",
          "text": [
            "Validating model...\n"
          ]
        },
        {
          "output_type": "stream",
          "name": "stderr",
          "text": [
            "100%|██████████| 61/61 [00:07<00:00,  8.44it/s]\n"
          ]
        },
        {
          "output_type": "stream",
          "name": "stdout",
          "text": [
            "Validation loss decreased! Saving model...\n",
            "Training loss: 0.13863251053474165\tValidation loss: 0.12671354132109\tTraining IoU: 0.09216535091400146\tValidation IoU: 0.07651667296886444\n",
            "[Epoch: 3]\n",
            "Training model...\n"
          ]
        },
        {
          "output_type": "stream",
          "name": "stderr",
          "text": [
            "100%|██████████| 242/242 [01:02<00:00,  3.88it/s]\n"
          ]
        },
        {
          "output_type": "stream",
          "name": "stdout",
          "text": [
            "Validating model...\n"
          ]
        },
        {
          "output_type": "stream",
          "name": "stderr",
          "text": [
            "100%|██████████| 61/61 [00:07<00:00,  8.17it/s]\n"
          ]
        },
        {
          "output_type": "stream",
          "name": "stdout",
          "text": [
            "Validation loss decreased! Saving model...\n",
            "Training loss: 0.12927452930487876\tValidation loss: 0.116229347151811\tTraining IoU: 0.0906345546245575\tValidation IoU: 0.0762888491153717\n",
            "[Epoch: 4]\n",
            "Training model...\n"
          ]
        },
        {
          "output_type": "stream",
          "name": "stderr",
          "text": [
            "100%|██████████| 242/242 [01:03<00:00,  3.82it/s]\n"
          ]
        },
        {
          "output_type": "stream",
          "name": "stdout",
          "text": [
            "Validating model...\n"
          ]
        },
        {
          "output_type": "stream",
          "name": "stderr",
          "text": [
            "100%|██████████| 61/61 [00:07<00:00,  8.29it/s]\n"
          ]
        },
        {
          "output_type": "stream",
          "name": "stdout",
          "text": [
            "Validation loss decreased! Saving model...\n",
            "Training loss: 0.12237308679287098\tValidation loss: 0.10853935460575291\tTraining IoU: 0.08931823074817657\tValidation IoU: 0.07593236863613129\n",
            "[Epoch: 5]\n",
            "Training model...\n"
          ]
        },
        {
          "output_type": "stream",
          "name": "stderr",
          "text": [
            "100%|██████████| 242/242 [01:03<00:00,  3.83it/s]\n"
          ]
        },
        {
          "output_type": "stream",
          "name": "stdout",
          "text": [
            "Validating model...\n"
          ]
        },
        {
          "output_type": "stream",
          "name": "stderr",
          "text": [
            "100%|██████████| 61/61 [00:07<00:00,  8.44it/s]\n"
          ]
        },
        {
          "output_type": "stream",
          "name": "stdout",
          "text": [
            "Validation loss decreased! Saving model...\n",
            "Training loss: 0.11608237220543968\tValidation loss: 0.1023391025965331\tTraining IoU: 0.08937647193670273\tValidation IoU: 0.075130395591259\n",
            "[Epoch: 6]\n",
            "Training model...\n"
          ]
        },
        {
          "output_type": "stream",
          "name": "stderr",
          "text": [
            "100%|██████████| 242/242 [01:03<00:00,  3.79it/s]\n"
          ]
        },
        {
          "output_type": "stream",
          "name": "stdout",
          "text": [
            "Validating model...\n"
          ]
        },
        {
          "output_type": "stream",
          "name": "stderr",
          "text": [
            "100%|██████████| 61/61 [00:07<00:00,  8.30it/s]\n"
          ]
        },
        {
          "output_type": "stream",
          "name": "stdout",
          "text": [
            "Validation loss decreased! Saving model...\n",
            "Training loss: 0.10962300890794963\tValidation loss: 0.09494578841401906\tTraining IoU: 0.08782940357923508\tValidation IoU: 0.07966997474431992\n",
            "[Epoch: 7]\n",
            "Training model...\n"
          ]
        },
        {
          "output_type": "stream",
          "name": "stderr",
          "text": [
            "100%|██████████| 242/242 [01:03<00:00,  3.80it/s]\n"
          ]
        },
        {
          "output_type": "stream",
          "name": "stdout",
          "text": [
            "Validating model...\n"
          ]
        },
        {
          "output_type": "stream",
          "name": "stderr",
          "text": [
            "100%|██████████| 61/61 [00:07<00:00,  8.44it/s]\n"
          ]
        },
        {
          "output_type": "stream",
          "name": "stdout",
          "text": [
            "Validation loss decreased! Saving model...\n",
            "Training loss: 0.10437544262852551\tValidation loss: 0.09026176500760141\tTraining IoU: 0.0883488655090332\tValidation IoU: 0.07656317949295044\n",
            "[Epoch: 8]\n",
            "Training model...\n"
          ]
        },
        {
          "output_type": "stream",
          "name": "stderr",
          "text": [
            "100%|██████████| 242/242 [01:03<00:00,  3.79it/s]\n"
          ]
        },
        {
          "output_type": "stream",
          "name": "stdout",
          "text": [
            "Validating model...\n"
          ]
        },
        {
          "output_type": "stream",
          "name": "stderr",
          "text": [
            "100%|██████████| 61/61 [00:07<00:00,  8.27it/s]\n"
          ]
        },
        {
          "output_type": "stream",
          "name": "stdout",
          "text": [
            "Validation loss decreased! Saving model...\n",
            "Training loss: 0.10352538510664436\tValidation loss: 0.08497400667335166\tTraining IoU: 0.09039069712162018\tValidation IoU: 0.07876196503639221\n",
            "[Epoch: 9]\n",
            "Training model...\n"
          ]
        },
        {
          "output_type": "stream",
          "name": "stderr",
          "text": [
            "100%|██████████| 242/242 [01:03<00:00,  3.79it/s]\n"
          ]
        },
        {
          "output_type": "stream",
          "name": "stdout",
          "text": [
            "Validating model...\n"
          ]
        },
        {
          "output_type": "stream",
          "name": "stderr",
          "text": [
            "100%|██████████| 61/61 [00:07<00:00,  8.34it/s]\n"
          ]
        },
        {
          "output_type": "stream",
          "name": "stdout",
          "text": [
            "Validation loss decreased! Saving model...\n",
            "Training loss: 0.09771862384393688\tValidation loss: 0.08418605968233991\tTraining IoU: 0.09101647138595581\tValidation IoU: 0.08066318929195404\n",
            "[Epoch: 10]\n",
            "Training model...\n"
          ]
        },
        {
          "output_type": "stream",
          "name": "stderr",
          "text": [
            "100%|██████████| 242/242 [01:03<00:00,  3.80it/s]\n"
          ]
        },
        {
          "output_type": "stream",
          "name": "stdout",
          "text": [
            "Validating model...\n"
          ]
        },
        {
          "output_type": "stream",
          "name": "stderr",
          "text": [
            "100%|██████████| 61/61 [00:07<00:00,  8.31it/s]\n"
          ]
        },
        {
          "output_type": "stream",
          "name": "stdout",
          "text": [
            "Validation loss decreased! Saving model...\n",
            "Training loss: 0.09496922381530123\tValidation loss: 0.07676116392382833\tTraining IoU: 0.09245970845222473\tValidation IoU: 0.08080264925956726\n",
            "[Epoch: 11]\n",
            "Training model...\n"
          ]
        },
        {
          "output_type": "stream",
          "name": "stderr",
          "text": [
            "100%|██████████| 242/242 [01:03<00:00,  3.79it/s]\n"
          ]
        },
        {
          "output_type": "stream",
          "name": "stdout",
          "text": [
            "Validating model...\n"
          ]
        },
        {
          "output_type": "stream",
          "name": "stderr",
          "text": [
            "100%|██████████| 61/61 [00:07<00:00,  8.32it/s]\n"
          ]
        },
        {
          "output_type": "stream",
          "name": "stdout",
          "text": [
            "Learning Rate Updated to 0.0025\n",
            "Training loss: 0.09224414058830127\tValidation loss: 0.07958515444923131\tTraining IoU: 0.09285895526409149\tValidation IoU: 0.08259253203868866\n",
            "[Epoch: 12]\n",
            "Training model...\n"
          ]
        },
        {
          "output_type": "stream",
          "name": "stderr",
          "text": [
            "100%|██████████| 242/242 [01:03<00:00,  3.81it/s]\n"
          ]
        },
        {
          "output_type": "stream",
          "name": "stdout",
          "text": [
            "Validating model...\n"
          ]
        },
        {
          "output_type": "stream",
          "name": "stderr",
          "text": [
            "100%|██████████| 61/61 [00:07<00:00,  8.31it/s]\n"
          ]
        },
        {
          "output_type": "stream",
          "name": "stdout",
          "text": [
            "Validation loss decreased! Saving model...\n",
            "Training loss: 0.0896671353569947\tValidation loss: 0.07658462693578884\tTraining IoU: 0.09279648214578629\tValidation IoU: 0.08328403532505035\n",
            "[Epoch: 13]\n",
            "Training model...\n"
          ]
        },
        {
          "output_type": "stream",
          "name": "stderr",
          "text": [
            "100%|██████████| 242/242 [01:03<00:00,  3.79it/s]\n"
          ]
        },
        {
          "output_type": "stream",
          "name": "stdout",
          "text": [
            "Validating model...\n"
          ]
        },
        {
          "output_type": "stream",
          "name": "stderr",
          "text": [
            "100%|██████████| 61/61 [00:07<00:00,  8.36it/s]\n"
          ]
        },
        {
          "output_type": "stream",
          "name": "stdout",
          "text": [
            "Validation loss decreased! Saving model...\n",
            "Training loss: 0.08912594856555797\tValidation loss: 0.07204758333133869\tTraining IoU: 0.09357403963804245\tValidation IoU: 0.0802343413233757\n",
            "[Epoch: 14]\n",
            "Training model...\n"
          ]
        },
        {
          "output_type": "stream",
          "name": "stderr",
          "text": [
            "100%|██████████| 242/242 [01:03<00:00,  3.80it/s]\n"
          ]
        },
        {
          "output_type": "stream",
          "name": "stdout",
          "text": [
            "Validating model...\n"
          ]
        },
        {
          "output_type": "stream",
          "name": "stderr",
          "text": [
            "100%|██████████| 61/61 [00:07<00:00,  8.38it/s]\n"
          ]
        },
        {
          "output_type": "stream",
          "name": "stdout",
          "text": [
            "Training loss: 0.08782081770872281\tValidation loss: 0.08228652855595116\tTraining IoU: 0.09317381680011749\tValidation IoU: 0.08249472081661224\n",
            "[Epoch: 15]\n",
            "Training model...\n"
          ]
        },
        {
          "output_type": "stream",
          "name": "stderr",
          "text": [
            "100%|██████████| 242/242 [01:03<00:00,  3.80it/s]\n"
          ]
        },
        {
          "output_type": "stream",
          "name": "stdout",
          "text": [
            "Validating model...\n"
          ]
        },
        {
          "output_type": "stream",
          "name": "stderr",
          "text": [
            "100%|██████████| 61/61 [00:07<00:00,  8.47it/s]\n"
          ]
        },
        {
          "output_type": "stream",
          "name": "stdout",
          "text": [
            "Training loss: 0.08687676198411086\tValidation loss: 0.07663958510536639\tTraining IoU: 0.09351922571659088\tValidation IoU: 0.0819057822227478\n",
            "[Epoch: 16]\n",
            "Training model...\n"
          ]
        },
        {
          "output_type": "stream",
          "name": "stderr",
          "text": [
            "100%|██████████| 242/242 [01:02<00:00,  3.84it/s]\n"
          ]
        },
        {
          "output_type": "stream",
          "name": "stdout",
          "text": [
            "Validating model...\n"
          ]
        },
        {
          "output_type": "stream",
          "name": "stderr",
          "text": [
            "100%|██████████| 61/61 [00:07<00:00,  8.69it/s]\n"
          ]
        },
        {
          "output_type": "stream",
          "name": "stdout",
          "text": [
            "Validation loss decreased! Saving model...\n",
            "Training loss: 0.08633383348091575\tValidation loss: 0.07089529232289947\tTraining IoU: 0.09465382993221283\tValidation IoU: 0.0826849415898323\n",
            "[Epoch: 17]\n",
            "Training model...\n"
          ]
        },
        {
          "output_type": "stream",
          "name": "stderr",
          "text": [
            "100%|██████████| 242/242 [01:01<00:00,  3.92it/s]\n"
          ]
        },
        {
          "output_type": "stream",
          "name": "stdout",
          "text": [
            "Validating model...\n"
          ]
        },
        {
          "output_type": "stream",
          "name": "stderr",
          "text": [
            "100%|██████████| 61/61 [00:06<00:00,  9.08it/s]\n"
          ]
        },
        {
          "output_type": "stream",
          "name": "stdout",
          "text": [
            "Training loss: 0.08470598363494578\tValidation loss: 0.07404127539914163\tTraining IoU: 0.09407418221235275\tValidation IoU: 0.08448086678981781\n",
            "[Epoch: 18]\n",
            "Training model...\n"
          ]
        },
        {
          "output_type": "stream",
          "name": "stderr",
          "text": [
            "100%|██████████| 242/242 [01:01<00:00,  3.92it/s]\n"
          ]
        },
        {
          "output_type": "stream",
          "name": "stdout",
          "text": [
            "Validating model...\n"
          ]
        },
        {
          "output_type": "stream",
          "name": "stderr",
          "text": [
            "100%|██████████| 61/61 [00:06<00:00,  9.09it/s]\n"
          ]
        },
        {
          "output_type": "stream",
          "name": "stdout",
          "text": [
            "Training loss: 0.08551056997096243\tValidation loss: 0.07242126826990823\tTraining IoU: 0.09424446523189545\tValidation IoU: 0.08396446704864502\n",
            "[Epoch: 19]\n",
            "Training model...\n"
          ]
        },
        {
          "output_type": "stream",
          "name": "stderr",
          "text": [
            "100%|██████████| 242/242 [01:01<00:00,  3.93it/s]\n"
          ]
        },
        {
          "output_type": "stream",
          "name": "stdout",
          "text": [
            "Validating model...\n"
          ]
        },
        {
          "output_type": "stream",
          "name": "stderr",
          "text": [
            "100%|██████████| 61/61 [00:06<00:00,  8.90it/s]\n"
          ]
        },
        {
          "output_type": "stream",
          "name": "stdout",
          "text": [
            "Training loss: 0.0828682828756157\tValidation loss: 0.07365695594764146\tTraining IoU: 0.09408200532197952\tValidation IoU: 0.08372844010591507\n",
            "[Epoch: 20]\n",
            "Training model...\n"
          ]
        },
        {
          "output_type": "stream",
          "name": "stderr",
          "text": [
            "100%|██████████| 242/242 [01:01<00:00,  3.91it/s]\n"
          ]
        },
        {
          "output_type": "stream",
          "name": "stdout",
          "text": [
            "Validating model...\n"
          ]
        },
        {
          "output_type": "stream",
          "name": "stderr",
          "text": [
            "100%|██████████| 61/61 [00:06<00:00,  9.06it/s]\n"
          ]
        },
        {
          "output_type": "stream",
          "name": "stdout",
          "text": [
            "Validation loss decreased! Saving model...\n",
            "Training loss: 0.08346979550955709\tValidation loss: 0.06824765436839862\tTraining IoU: 0.09476850181818008\tValidation IoU: 0.0820845365524292\n",
            "[Epoch: 21]\n",
            "Training model...\n"
          ]
        },
        {
          "output_type": "stream",
          "name": "stderr",
          "text": [
            "100%|██████████| 242/242 [01:01<00:00,  3.92it/s]\n"
          ]
        },
        {
          "output_type": "stream",
          "name": "stdout",
          "text": [
            "Validating model...\n"
          ]
        },
        {
          "output_type": "stream",
          "name": "stderr",
          "text": [
            "100%|██████████| 61/61 [00:06<00:00,  9.03it/s]\n"
          ]
        },
        {
          "output_type": "stream",
          "name": "stdout",
          "text": [
            "Learning Rate Updated to 0.00125\n",
            "Training loss: 0.0829511167527723\tValidation loss: 0.07182835265383368\tTraining IoU: 0.09506203234195709\tValidation IoU: 0.08135543763637543\n",
            "[Epoch: 22]\n",
            "Training model...\n"
          ]
        },
        {
          "output_type": "stream",
          "name": "stderr",
          "text": [
            "100%|██████████| 242/242 [01:01<00:00,  3.93it/s]\n"
          ]
        },
        {
          "output_type": "stream",
          "name": "stdout",
          "text": [
            "Validating model...\n"
          ]
        },
        {
          "output_type": "stream",
          "name": "stderr",
          "text": [
            "100%|██████████| 61/61 [00:06<00:00,  9.03it/s]\n"
          ]
        },
        {
          "output_type": "stream",
          "name": "stdout",
          "text": [
            "Training loss: 0.0819840409123331\tValidation loss: 0.07248218265957519\tTraining IoU: 0.09438497573137283\tValidation IoU: 0.08300066739320755\n",
            "[Epoch: 23]\n",
            "Training model...\n"
          ]
        },
        {
          "output_type": "stream",
          "name": "stderr",
          "text": [
            "100%|██████████| 242/242 [01:01<00:00,  3.93it/s]\n"
          ]
        },
        {
          "output_type": "stream",
          "name": "stdout",
          "text": [
            "Validating model...\n"
          ]
        },
        {
          "output_type": "stream",
          "name": "stderr",
          "text": [
            "100%|██████████| 61/61 [00:06<00:00,  9.06it/s]\n"
          ]
        },
        {
          "output_type": "stream",
          "name": "stdout",
          "text": [
            "Training loss: 0.08049861121584069\tValidation loss: 0.07086585358273788\tTraining IoU: 0.0941031202673912\tValidation IoU: 0.08319267630577087\n",
            "[Epoch: 24]\n",
            "Training model...\n"
          ]
        },
        {
          "output_type": "stream",
          "name": "stderr",
          "text": [
            "100%|██████████| 242/242 [01:01<00:00,  3.92it/s]\n"
          ]
        },
        {
          "output_type": "stream",
          "name": "stdout",
          "text": [
            "Validating model...\n"
          ]
        },
        {
          "output_type": "stream",
          "name": "stderr",
          "text": [
            "100%|██████████| 61/61 [00:06<00:00,  9.08it/s]\n"
          ]
        },
        {
          "output_type": "stream",
          "name": "stdout",
          "text": [
            "Training loss: 0.08088301298447138\tValidation loss: 0.0774364182420197\tTraining IoU: 0.09468848258256912\tValidation IoU: 0.08159913122653961\n",
            "[Epoch: 25]\n",
            "Training model...\n"
          ]
        },
        {
          "output_type": "stream",
          "name": "stderr",
          "text": [
            "100%|██████████| 242/242 [01:01<00:00,  3.93it/s]\n"
          ]
        },
        {
          "output_type": "stream",
          "name": "stdout",
          "text": [
            "Validating model...\n"
          ]
        },
        {
          "output_type": "stream",
          "name": "stderr",
          "text": [
            "100%|██████████| 61/61 [00:06<00:00,  9.06it/s]\n"
          ]
        },
        {
          "output_type": "stream",
          "name": "stdout",
          "text": [
            "Training loss: 0.08038279779778779\tValidation loss: 0.06838576582672655\tTraining IoU: 0.094312883913517\tValidation IoU: 0.08278807997703552\n",
            "[Epoch: 26]\n",
            "Training model...\n"
          ]
        },
        {
          "output_type": "stream",
          "name": "stderr",
          "text": [
            "100%|██████████| 242/242 [01:01<00:00,  3.95it/s]\n"
          ]
        },
        {
          "output_type": "stream",
          "name": "stdout",
          "text": [
            "Validating model...\n"
          ]
        },
        {
          "output_type": "stream",
          "name": "stderr",
          "text": [
            "100%|██████████| 61/61 [00:06<00:00,  9.20it/s]\n"
          ]
        },
        {
          "output_type": "stream",
          "name": "stdout",
          "text": [
            "Training loss: 0.08148546406060211\tValidation loss: 0.06992660539194209\tTraining IoU: 0.09522750973701477\tValidation IoU: 0.0817594900727272\n",
            "[Epoch: 27]\n",
            "Training model...\n"
          ]
        },
        {
          "output_type": "stream",
          "name": "stderr",
          "text": [
            "100%|██████████| 242/242 [01:01<00:00,  3.95it/s]\n"
          ]
        },
        {
          "output_type": "stream",
          "name": "stdout",
          "text": [
            "Validating model...\n"
          ]
        },
        {
          "output_type": "stream",
          "name": "stderr",
          "text": [
            "100%|██████████| 61/61 [00:06<00:00,  9.09it/s]\n"
          ]
        },
        {
          "output_type": "stream",
          "name": "stdout",
          "text": [
            "Training loss: 0.08024895174259489\tValidation loss: 0.06995387393675867\tTraining IoU: 0.09547115862369537\tValidation IoU: 0.08124097436666489\n",
            "[Epoch: 28]\n",
            "Training model...\n"
          ]
        },
        {
          "output_type": "stream",
          "name": "stderr",
          "text": [
            "100%|██████████| 242/242 [01:01<00:00,  3.94it/s]\n"
          ]
        },
        {
          "output_type": "stream",
          "name": "stdout",
          "text": [
            "Validating model...\n"
          ]
        },
        {
          "output_type": "stream",
          "name": "stderr",
          "text": [
            "100%|██████████| 61/61 [00:06<00:00,  8.97it/s]\n"
          ]
        },
        {
          "output_type": "stream",
          "name": "stdout",
          "text": [
            "Validation loss decreased! Saving model...\n",
            "Training loss: 0.07828057134785682\tValidation loss: 0.06800917710070728\tTraining IoU: 0.09421787410974503\tValidation IoU: 0.08185627311468124\n",
            "[Epoch: 29]\n",
            "Training model...\n"
          ]
        },
        {
          "output_type": "stream",
          "name": "stderr",
          "text": [
            "100%|██████████| 242/242 [01:01<00:00,  3.93it/s]\n"
          ]
        },
        {
          "output_type": "stream",
          "name": "stdout",
          "text": [
            "Validating model...\n"
          ]
        },
        {
          "output_type": "stream",
          "name": "stderr",
          "text": [
            "100%|██████████| 61/61 [00:06<00:00,  9.11it/s]\n"
          ]
        },
        {
          "output_type": "stream",
          "name": "stdout",
          "text": [
            "Validation loss decreased! Saving model...\n",
            "Training loss: 0.07964965768066073\tValidation loss: 0.0654587037097968\tTraining IoU: 0.0951850488781929\tValidation IoU: 0.08167335391044617\n",
            "[Epoch: 30]\n",
            "Training model...\n"
          ]
        },
        {
          "output_type": "stream",
          "name": "stderr",
          "text": [
            "100%|██████████| 242/242 [01:01<00:00,  3.93it/s]\n"
          ]
        },
        {
          "output_type": "stream",
          "name": "stdout",
          "text": [
            "Validating model...\n"
          ]
        },
        {
          "output_type": "stream",
          "name": "stderr",
          "text": [
            "100%|██████████| 61/61 [00:06<00:00,  9.15it/s]\n"
          ]
        },
        {
          "output_type": "stream",
          "name": "stdout",
          "text": [
            "Training loss: 0.07960682331530516\tValidation loss: 0.06904963739827032\tTraining IoU: 0.09468662738800049\tValidation IoU: 0.0803602859377861\n",
            "[Epoch: 31]\n",
            "Training model...\n"
          ]
        },
        {
          "output_type": "stream",
          "name": "stderr",
          "text": [
            "100%|██████████| 242/242 [01:01<00:00,  3.94it/s]\n"
          ]
        },
        {
          "output_type": "stream",
          "name": "stdout",
          "text": [
            "Validating model...\n"
          ]
        },
        {
          "output_type": "stream",
          "name": "stderr",
          "text": [
            "100%|██████████| 61/61 [00:06<00:00,  9.08it/s]\n"
          ]
        },
        {
          "output_type": "stream",
          "name": "stdout",
          "text": [
            "Learning Rate Updated to 0.000625\n",
            "Training loss: 0.07986892593547332\tValidation loss: 0.06736932826213173\tTraining IoU: 0.09516119956970215\tValidation IoU: 0.08209448307752609\n",
            "[Epoch: 32]\n",
            "Training model...\n"
          ]
        },
        {
          "output_type": "stream",
          "name": "stderr",
          "text": [
            "100%|██████████| 242/242 [01:01<00:00,  3.93it/s]\n"
          ]
        },
        {
          "output_type": "stream",
          "name": "stdout",
          "text": [
            "Validating model...\n"
          ]
        },
        {
          "output_type": "stream",
          "name": "stderr",
          "text": [
            "100%|██████████| 61/61 [00:06<00:00,  9.00it/s]\n"
          ]
        },
        {
          "output_type": "stream",
          "name": "stdout",
          "text": [
            "Training loss: 0.07934178961517889\tValidation loss: 0.06911153471494308\tTraining IoU: 0.09557558596134186\tValidation IoU: 0.08297039568424225\n",
            "[Epoch: 33]\n",
            "Training model...\n"
          ]
        },
        {
          "output_type": "stream",
          "name": "stderr",
          "text": [
            "100%|██████████| 242/242 [01:01<00:00,  3.94it/s]\n"
          ]
        },
        {
          "output_type": "stream",
          "name": "stdout",
          "text": [
            "Validating model...\n"
          ]
        },
        {
          "output_type": "stream",
          "name": "stderr",
          "text": [
            "100%|██████████| 61/61 [00:06<00:00,  9.07it/s]\n"
          ]
        },
        {
          "output_type": "stream",
          "name": "stdout",
          "text": [
            "Training loss: 0.07725659748616297\tValidation loss: 0.06804836416220078\tTraining IoU: 0.09482499957084656\tValidation IoU: 0.08353614062070847\n",
            "[Epoch: 34]\n",
            "Training model...\n"
          ]
        },
        {
          "output_type": "stream",
          "name": "stderr",
          "text": [
            "100%|██████████| 242/242 [01:01<00:00,  3.94it/s]\n"
          ]
        },
        {
          "output_type": "stream",
          "name": "stdout",
          "text": [
            "Validating model...\n"
          ]
        },
        {
          "output_type": "stream",
          "name": "stderr",
          "text": [
            "100%|██████████| 61/61 [00:06<00:00,  9.15it/s]\n"
          ]
        },
        {
          "output_type": "stream",
          "name": "stdout",
          "text": [
            "Training loss: 0.07788426843895153\tValidation loss: 0.06738636247264068\tTraining IoU: 0.09518029540777206\tValidation IoU: 0.08364920318126678\n",
            "[Epoch: 35]\n",
            "Training model...\n"
          ]
        },
        {
          "output_type": "stream",
          "name": "stderr",
          "text": [
            "100%|██████████| 242/242 [01:01<00:00,  3.94it/s]\n"
          ]
        },
        {
          "output_type": "stream",
          "name": "stdout",
          "text": [
            "Validating model...\n"
          ]
        },
        {
          "output_type": "stream",
          "name": "stderr",
          "text": [
            "100%|██████████| 61/61 [00:06<00:00,  9.13it/s]\n"
          ]
        },
        {
          "output_type": "stream",
          "name": "stdout",
          "text": [
            "Training loss: 0.07798131365975565\tValidation loss: 0.0675970606169984\tTraining IoU: 0.09517718106508255\tValidation IoU: 0.08297570049762726\n",
            "[Epoch: 36]\n",
            "Training model...\n"
          ]
        },
        {
          "output_type": "stream",
          "name": "stderr",
          "text": [
            "100%|██████████| 242/242 [01:01<00:00,  3.94it/s]\n"
          ]
        },
        {
          "output_type": "stream",
          "name": "stdout",
          "text": [
            "Validating model...\n"
          ]
        },
        {
          "output_type": "stream",
          "name": "stderr",
          "text": [
            "100%|██████████| 61/61 [00:06<00:00,  9.14it/s]\n"
          ]
        },
        {
          "output_type": "stream",
          "name": "stdout",
          "text": [
            "Training loss: 0.07815122144866335\tValidation loss: 0.06625034082986292\tTraining IoU: 0.09523992240428925\tValidation IoU: 0.08192188292741776\n",
            "[Epoch: 37]\n",
            "Training model...\n"
          ]
        },
        {
          "output_type": "stream",
          "name": "stderr",
          "text": [
            "100%|██████████| 242/242 [01:01<00:00,  3.93it/s]\n"
          ]
        },
        {
          "output_type": "stream",
          "name": "stdout",
          "text": [
            "Validating model...\n"
          ]
        },
        {
          "output_type": "stream",
          "name": "stderr",
          "text": [
            "100%|██████████| 61/61 [00:06<00:00,  9.13it/s]\n"
          ]
        },
        {
          "output_type": "stream",
          "name": "stdout",
          "text": [
            "Training loss: 0.0783045209697948\tValidation loss: 0.0667540619882648\tTraining IoU: 0.09512007981538773\tValidation IoU: 0.08337035775184631\n",
            "[Epoch: 38]\n",
            "Training model...\n"
          ]
        },
        {
          "output_type": "stream",
          "name": "stderr",
          "text": [
            "100%|██████████| 242/242 [01:01<00:00,  3.93it/s]\n"
          ]
        },
        {
          "output_type": "stream",
          "name": "stdout",
          "text": [
            "Validating model...\n"
          ]
        },
        {
          "output_type": "stream",
          "name": "stderr",
          "text": [
            "100%|██████████| 61/61 [00:06<00:00,  9.08it/s]\n"
          ]
        },
        {
          "output_type": "stream",
          "name": "stdout",
          "text": [
            "Training loss: 0.07717952290011093\tValidation loss: 0.0702687526946185\tTraining IoU: 0.09511139988899231\tValidation IoU: 0.08265981823205948\n",
            "[Epoch: 39]\n",
            "Training model...\n"
          ]
        },
        {
          "output_type": "stream",
          "name": "stderr",
          "text": [
            "100%|██████████| 242/242 [01:01<00:00,  3.93it/s]\n"
          ]
        },
        {
          "output_type": "stream",
          "name": "stdout",
          "text": [
            "Validating model...\n"
          ]
        },
        {
          "output_type": "stream",
          "name": "stderr",
          "text": [
            "100%|██████████| 61/61 [00:06<00:00,  9.05it/s]\n"
          ]
        },
        {
          "output_type": "stream",
          "name": "stdout",
          "text": [
            "Training loss: 0.07767587868604532\tValidation loss: 0.06683431944397629\tTraining IoU: 0.09540638327598572\tValidation IoU: 0.08023915439844131\n",
            "[Epoch: 40]\n",
            "Training model...\n"
          ]
        },
        {
          "output_type": "stream",
          "name": "stderr",
          "text": [
            "100%|██████████| 242/242 [01:01<00:00,  3.94it/s]\n"
          ]
        },
        {
          "output_type": "stream",
          "name": "stdout",
          "text": [
            "Validating model...\n"
          ]
        },
        {
          "output_type": "stream",
          "name": "stderr",
          "text": [
            "100%|██████████| 61/61 [00:06<00:00,  9.07it/s]\n"
          ]
        },
        {
          "output_type": "stream",
          "name": "stdout",
          "text": [
            "Training loss: 0.07773648473349484\tValidation loss: 0.06696074110929107\tTraining IoU: 0.09496928751468658\tValidation IoU: 0.08326801657676697\n",
            "[Epoch: 41]\n",
            "Training model...\n"
          ]
        },
        {
          "output_type": "stream",
          "name": "stderr",
          "text": [
            "100%|██████████| 242/242 [01:01<00:00,  3.94it/s]\n"
          ]
        },
        {
          "output_type": "stream",
          "name": "stdout",
          "text": [
            "Validating model...\n"
          ]
        },
        {
          "output_type": "stream",
          "name": "stderr",
          "text": [
            "100%|██████████| 61/61 [00:06<00:00,  9.19it/s]\n"
          ]
        },
        {
          "output_type": "stream",
          "name": "stdout",
          "text": [
            "Learning Rate Updated to 0.0003125\n",
            "Training loss: 0.07627345295238101\tValidation loss: 0.06878160886832925\tTraining IoU: 0.09514157474040985\tValidation IoU: 0.0835321769118309\n",
            "[Epoch: 42]\n",
            "Training model...\n"
          ]
        },
        {
          "output_type": "stream",
          "name": "stderr",
          "text": [
            "100%|██████████| 242/242 [01:01<00:00,  3.95it/s]\n"
          ]
        },
        {
          "output_type": "stream",
          "name": "stdout",
          "text": [
            "Validating model...\n"
          ]
        },
        {
          "output_type": "stream",
          "name": "stderr",
          "text": [
            "100%|██████████| 61/61 [00:06<00:00,  9.14it/s]\n"
          ]
        },
        {
          "output_type": "stream",
          "name": "stdout",
          "text": [
            "Training loss: 0.07569668808382404\tValidation loss: 0.0661420805501889\tTraining IoU: 0.09502895921468735\tValidation IoU: 0.0818619504570961\n",
            "[Epoch: 43]\n",
            "Training model...\n"
          ]
        },
        {
          "output_type": "stream",
          "name": "stderr",
          "text": [
            "100%|██████████| 242/242 [01:01<00:00,  3.94it/s]\n"
          ]
        },
        {
          "output_type": "stream",
          "name": "stdout",
          "text": [
            "Validating model...\n"
          ]
        },
        {
          "output_type": "stream",
          "name": "stderr",
          "text": [
            "100%|██████████| 61/61 [00:06<00:00,  9.13it/s]\n"
          ]
        },
        {
          "output_type": "stream",
          "name": "stdout",
          "text": [
            "Training loss: 0.07782002788591237\tValidation loss: 0.06789439366977723\tTraining IoU: 0.09540112316608429\tValidation IoU: 0.08472118526697159\n",
            "[Epoch: 44]\n",
            "Training model...\n"
          ]
        },
        {
          "output_type": "stream",
          "name": "stderr",
          "text": [
            "100%|██████████| 242/242 [01:01<00:00,  3.93it/s]\n"
          ]
        },
        {
          "output_type": "stream",
          "name": "stdout",
          "text": [
            "Validating model...\n"
          ]
        },
        {
          "output_type": "stream",
          "name": "stderr",
          "text": [
            "100%|██████████| 61/61 [00:06<00:00,  9.12it/s]\n"
          ]
        },
        {
          "output_type": "stream",
          "name": "stdout",
          "text": [
            "Training loss: 0.07718857811871639\tValidation loss: 0.06761147313919223\tTraining IoU: 0.09548044204711914\tValidation IoU: 0.08422090858221054\n",
            "[Epoch: 45]\n",
            "Training model...\n"
          ]
        },
        {
          "output_type": "stream",
          "name": "stderr",
          "text": [
            "100%|██████████| 242/242 [01:01<00:00,  3.94it/s]\n"
          ]
        },
        {
          "output_type": "stream",
          "name": "stdout",
          "text": [
            "Validating model...\n"
          ]
        },
        {
          "output_type": "stream",
          "name": "stderr",
          "text": [
            "100%|██████████| 61/61 [00:06<00:00,  9.13it/s]\n"
          ]
        },
        {
          "output_type": "stream",
          "name": "stdout",
          "text": [
            "Training loss: 0.07729573689462725\tValidation loss: 0.06591193802410462\tTraining IoU: 0.09550091624259949\tValidation IoU: 0.08025572448968887\n",
            "[Epoch: 46]\n",
            "Training model...\n"
          ]
        },
        {
          "output_type": "stream",
          "name": "stderr",
          "text": [
            "100%|██████████| 242/242 [01:01<00:00,  3.94it/s]\n"
          ]
        },
        {
          "output_type": "stream",
          "name": "stdout",
          "text": [
            "Validating model...\n"
          ]
        },
        {
          "output_type": "stream",
          "name": "stderr",
          "text": [
            "100%|██████████| 61/61 [00:06<00:00,  9.11it/s]\n"
          ]
        },
        {
          "output_type": "stream",
          "name": "stdout",
          "text": [
            "Training loss: 0.07784344097368481\tValidation loss: 0.0683564334863522\tTraining IoU: 0.09517701715230942\tValidation IoU: 0.08271767199039459\n",
            "[Epoch: 47]\n",
            "Training model...\n"
          ]
        },
        {
          "output_type": "stream",
          "name": "stderr",
          "text": [
            "100%|██████████| 242/242 [01:01<00:00,  3.94it/s]\n"
          ]
        },
        {
          "output_type": "stream",
          "name": "stdout",
          "text": [
            "Validating model...\n"
          ]
        },
        {
          "output_type": "stream",
          "name": "stderr",
          "text": [
            "100%|██████████| 61/61 [00:06<00:00,  9.05it/s]\n"
          ]
        },
        {
          "output_type": "stream",
          "name": "stdout",
          "text": [
            "Training loss: 0.07734100198111504\tValidation loss: 0.06740993949905282\tTraining IoU: 0.09562613070011139\tValidation IoU: 0.0815533921122551\n",
            "[Epoch: 48]\n",
            "Training model...\n"
          ]
        },
        {
          "output_type": "stream",
          "name": "stderr",
          "text": [
            "100%|██████████| 242/242 [01:01<00:00,  3.93it/s]\n"
          ]
        },
        {
          "output_type": "stream",
          "name": "stdout",
          "text": [
            "Validating model...\n"
          ]
        },
        {
          "output_type": "stream",
          "name": "stderr",
          "text": [
            "100%|██████████| 61/61 [00:06<00:00,  9.05it/s]\n"
          ]
        },
        {
          "output_type": "stream",
          "name": "stdout",
          "text": [
            "Validation loss decreased! Saving model...\n",
            "Training loss: 0.07621653053971116\tValidation loss: 0.06349183974757058\tTraining IoU: 0.09554300457239151\tValidation IoU: 0.081490159034729\n",
            "[Epoch: 49]\n",
            "Training model...\n"
          ]
        },
        {
          "output_type": "stream",
          "name": "stderr",
          "text": [
            "100%|██████████| 242/242 [01:01<00:00,  3.95it/s]\n"
          ]
        },
        {
          "output_type": "stream",
          "name": "stdout",
          "text": [
            "Validating model...\n"
          ]
        },
        {
          "output_type": "stream",
          "name": "stderr",
          "text": [
            "100%|██████████| 61/61 [00:06<00:00,  9.11it/s]\n"
          ]
        },
        {
          "output_type": "stream",
          "name": "stdout",
          "text": [
            "Training loss: 0.07559376155326436\tValidation loss: 0.06619902694078743\tTraining IoU: 0.0951223224401474\tValidation IoU: 0.08219833672046661\n",
            "[Epoch: 50]\n",
            "Training model...\n"
          ]
        },
        {
          "output_type": "stream",
          "name": "stderr",
          "text": [
            "100%|██████████| 242/242 [01:01<00:00,  3.94it/s]\n"
          ]
        },
        {
          "output_type": "stream",
          "name": "stdout",
          "text": [
            "Validating model...\n"
          ]
        },
        {
          "output_type": "stream",
          "name": "stderr",
          "text": [
            "100%|██████████| 61/61 [00:06<00:00,  9.16it/s]\n"
          ]
        },
        {
          "output_type": "stream",
          "name": "stdout",
          "text": [
            "Training loss: 0.0769683576289041\tValidation loss: 0.06600057942884378\tTraining IoU: 0.09522344172000885\tValidation IoU: 0.08311939984560013\n"
          ]
        },
        {
          "output_type": "error",
          "ename": "NameError",
          "evalue": "ignored",
          "traceback": [
            "\u001b[0;31m---------------------------------------------------------------------------\u001b[0m",
            "\u001b[0;31mNameError\u001b[0m                                 Traceback (most recent call last)",
            "\u001b[0;32m<ipython-input-6-58d8be2a9cca>\u001b[0m in \u001b[0;36m<module>\u001b[0;34m()\u001b[0m\n\u001b[1;32m    176\u001b[0m \u001b[0mtorch\u001b[0m\u001b[0;34m.\u001b[0m\u001b[0msave\u001b[0m\u001b[0;34m(\u001b[0m\u001b[0mmodel\u001b[0m\u001b[0;34m.\u001b[0m\u001b[0mstate_dict\u001b[0m\u001b[0;34m(\u001b[0m\u001b[0;34m)\u001b[0m\u001b[0;34m,\u001b[0m\u001b[0mos\u001b[0m\u001b[0;34m.\u001b[0m\u001b[0mpath\u001b[0m\u001b[0;34m.\u001b[0m\u001b[0mjoin\u001b[0m\u001b[0;34m(\u001b[0m\u001b[0msave_path\u001b[0m\u001b[0;34m,\u001b[0m\u001b[0;34m'model.pth'\u001b[0m\u001b[0;34m)\u001b[0m\u001b[0;34m)\u001b[0m\u001b[0;34m\u001b[0m\u001b[0;34m\u001b[0m\u001b[0m\n\u001b[1;32m    177\u001b[0m \u001b[0;34m\u001b[0m\u001b[0m\n\u001b[0;32m--> 178\u001b[0;31m \u001b[0mplt\u001b[0m\u001b[0;34m.\u001b[0m\u001b[0mfigure\u001b[0m\u001b[0;34m(\u001b[0m\u001b[0;34m)\u001b[0m\u001b[0;34m\u001b[0m\u001b[0;34m\u001b[0m\u001b[0m\n\u001b[0m\u001b[1;32m    179\u001b[0m \u001b[0mplt\u001b[0m\u001b[0;34m.\u001b[0m\u001b[0mplot\u001b[0m\u001b[0;34m(\u001b[0m\u001b[0mtraining_loss\u001b[0m\u001b[0;34m,\u001b[0m \u001b[0mlabel\u001b[0m \u001b[0;34m=\u001b[0m \u001b[0;34m'training loss'\u001b[0m\u001b[0;34m)\u001b[0m\u001b[0;34m\u001b[0m\u001b[0;34m\u001b[0m\u001b[0m\n\u001b[1;32m    180\u001b[0m \u001b[0mplt\u001b[0m\u001b[0;34m.\u001b[0m\u001b[0mplot\u001b[0m\u001b[0;34m(\u001b[0m\u001b[0mvalidation_loss\u001b[0m\u001b[0;34m,\u001b[0m \u001b[0mlabel\u001b[0m \u001b[0;34m=\u001b[0m \u001b[0;34m'validation loss'\u001b[0m\u001b[0;34m)\u001b[0m\u001b[0;34m\u001b[0m\u001b[0;34m\u001b[0m\u001b[0m\n",
            "\u001b[0;31mNameError\u001b[0m: name 'plt' is not defined"
          ]
        }
      ]
    }
  ]
}