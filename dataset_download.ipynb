{
  "nbformat": 4,
  "nbformat_minor": 0,
  "metadata": {
    "colab": {
      "name": "dataset_download.ipynb",
      "provenance": []
    },
    "kernelspec": {
      "name": "python3",
      "display_name": "Python 3"
    },
    "language_info": {
      "name": "python"
    }
  },
  "cells": [
    {
      "cell_type": "markdown",
      "source": [
        "# Dataset download from Kaggle to Google Drive\n",
        "\n"
      ],
      "metadata": {
        "id": "1nJ_dlz_3xjG"
      }
    },
    {
      "cell_type": "code",
      "metadata": {
        "id": "hiuCKnpw3ctN"
      },
      "source": [
        "!pip uninstall -y kaggle\n",
        "!pip install --upgrade pip\n",
        "!pip install kaggle==1.5.6\n",
        "! cp kaggle.json ~/.kaggle/\n",
        "! chmod 600 ~/.kaggle/kaggle.json\n",
        "\n",
        "%cd /content/drive/MyDrive/DACO/Datasets\n",
        "!kaggle competitions download -c sartorius-cell-instance-segmentation\n",
        "!unzip /content/drive/MyDrive/DACO/Datasets/sartorius-cell-instance-segmentation.zip -d /content/drive/MyDrive/DACO/Datasets/"
      ],
      "execution_count": null,
      "outputs": []
    }
  ]
}